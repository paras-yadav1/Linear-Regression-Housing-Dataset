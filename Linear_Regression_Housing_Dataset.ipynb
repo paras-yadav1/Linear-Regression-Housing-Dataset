{
  "nbformat": 4,
  "nbformat_minor": 0,
  "metadata": {
    "kernelspec": {
      "display_name": "Python 3",
      "language": "python",
      "name": "python3"
    },
    "language_info": {
      "codemirror_mode": {
        "name": "ipython",
        "version": 3
      },
      "file_extension": ".py",
      "mimetype": "text/x-python",
      "name": "python",
      "nbconvert_exporter": "python",
      "pygments_lexer": "ipython3",
      "version": "3.6.5"
    },
    "colab": {
      "name": "Linear_Regression_Housing_Dataset.ipynb",
      "provenance": [],
      "collapsed_sections": []
    }
  },
  "cells": [
    {
      "cell_type": "code",
      "metadata": {
        "id": "0XeBG7p4CvOY",
        "colab_type": "code",
        "outputId": "32808b1a-b463-49ef-d1a5-3bf025ffa5cf",
        "colab": {
          "base_uri": "https://localhost:8080/",
          "height": 280
        }
      },
      "source": [
        "import pandas as pd\n",
        "import numpy as np\n",
        "import matplotlib.pyplot as plt\n",
        "df = pd.read_csv('house-prices.txt', names=['Living_Area','No_of_Bedrooms','Price'])\n",
        "plt.scatter(df['Living_Area'], df['Price'], marker = 'x')\n",
        "plt.xlabel(\"Living_Area\")\n",
        "plt.ylabel(\"Price\")\n",
        "plt.show()"
      ],
      "execution_count": 0,
      "outputs": [
        {
          "output_type": "display_data",
          "data": {
            "image/png": "[encoded data removed]",
            "text/plain": [
              "<Figure size 432x288 with 1 Axes>"
            ]
          },
          "metadata": {
            "tags": []
          }
        }
      ]
    },
    {
      "cell_type": "code",
      "metadata": {
        "id": "0YDU7ZZMCvOn",
        "colab_type": "code",
        "outputId": "d217699b-3b24-411a-fac9-df9311aa8a4b",
        "colab": {
          "base_uri": "https://localhost:8080/",
          "height": 206
        }
      },
      "source": [
        "df.head()"
      ],
      "execution_count": 0,
      "outputs": [
        {
          "output_type": "execute_result",
          "data": {
            "text/html": [
              "<div>\n",
              "<style scoped>\n",
              "    .dataframe tbody tr th:only-of-type {\n",
              "        vertical-align: middle;\n",
              "    }\n",
              "\n",
              "    .dataframe tbody tr th {\n",
              "        vertical-align: top;\n",
              "    }\n",
              "\n",
              "    .dataframe thead th {\n",
              "        text-align: right;\n",
              "    }\n",
              "</style>\n",
              "<table border=\"1\" class=\"dataframe\">\n",
              "  <thead>\n",
              "    <tr style=\"text-align: right;\">\n",
              "      <th></th>\n",
              "      <th>Living_Area</th>\n",
              "      <th>No_of_Bedrooms</th>\n",
              "      <th>Price</th>\n",
              "    </tr>\n",
              "  </thead>\n",
              "  <tbody>\n",
              "    <tr>\n",
              "      <th>0</th>\n",
              "      <td>2104</td>\n",
              "      <td>3</td>\n",
              "      <td>399900</td>\n",
              "    </tr>\n",
              "    <tr>\n",
              "      <th>1</th>\n",
              "      <td>1600</td>\n",
              "      <td>3</td>\n",
              "      <td>329900</td>\n",
              "    </tr>\n",
              "    <tr>\n",
              "      <th>2</th>\n",
              "      <td>2400</td>\n",
              "      <td>3</td>\n",
              "      <td>369000</td>\n",
              "    </tr>\n",
              "    <tr>\n",
              "      <th>3</th>\n",
              "      <td>1416</td>\n",
              "      <td>2</td>\n",
              "      <td>232000</td>\n",
              "    </tr>\n",
              "    <tr>\n",
              "      <th>4</th>\n",
              "      <td>3000</td>\n",
              "      <td>4</td>\n",
              "      <td>539900</td>\n",
              "    </tr>\n",
              "  </tbody>\n",
              "</table>\n",
              "</div>"
            ],
            "text/plain": [
              "   Living_Area  No_of_Bedrooms   Price\n",
              "0         2104               3  399900\n",
              "1         1600               3  329900\n",
              "2         2400               3  369000\n",
              "3         1416               2  232000\n",
              "4         3000               4  539900"
            ]
          },
          "metadata": {
            "tags": []
          },
          "execution_count": 604
        }
      ]
    },
    {
      "cell_type": "markdown",
      "metadata": {
        "id": "BQoxOwDPbdye",
        "colab_type": "text"
      },
      "source": [
        "#Preprocessing the Data"
      ]
    },
    {
      "cell_type": "code",
      "metadata": {
        "id": "DQcQZq7CCvOy",
        "colab_type": "code",
        "colab": {}
      },
      "source": [
        "from sklearn.preprocessing import normalize\n",
        "data = normalize(df, axis=0)\n",
        "X = data[:, 0:2]\n",
        "Y = data[:, 2:]\n",
        "theta = np.zeros([3,1])"
      ],
      "execution_count": 0,
      "outputs": []
    },
    {
      "cell_type": "code",
      "metadata": {
        "id": "bqfRbDmDXJtr",
        "colab_type": "code",
        "outputId": "d88792cf-a314-4774-9cfc-b18b6f28ede8",
        "colab": {
          "base_uri": "https://localhost:8080/",
          "height": 35
        }
      },
      "source": [
        "data[0]"
      ],
      "execution_count": 0,
      "outputs": [
        {
          "output_type": "execute_result",
          "data": {
            "text/plain": [
              "array([0.14276982, 0.13429844, 0.16105104])"
            ]
          },
          "metadata": {
            "tags": []
          },
          "execution_count": 606
        }
      ]
    },
    {
      "cell_type": "markdown",
      "metadata": {
        "id": "fOM3vKG4bNAV",
        "colab_type": "text"
      },
      "source": [
        "#Hypothesis Function"
      ]
    },
    {
      "cell_type": "code",
      "metadata": {
        "id": "mQQDN2yaCvPa",
        "colab_type": "code",
        "colab": {}
      },
      "source": [
        "def hypothesis(theta, X) :\n",
        "    x = np.ones([47,3])\n",
        "    x[:,1:] = X   #Adding x0=1 to X feature vector\n",
        "    h = np.matmul(x, theta)\n",
        "    return  h"
      ],
      "execution_count": 0,
      "outputs": []
    },
    {
      "cell_type": "markdown",
      "metadata": {
        "id": "hTR1tQugbVGF",
        "colab_type": "text"
      },
      "source": [
        "#Cost Function"
      ]
    },
    {
      "cell_type": "code",
      "metadata": {
        "id": "DTyZpBLjCvPs",
        "colab_type": "code",
        "colab": {}
      },
      "source": [
        "def cost_fn (theta, X, Y) :\n",
        "    t = np.empty([0,0])\n",
        "    for i in range(47):\n",
        "        t = np.append(t, [np.square(Y - hypothesis(theta, X))])\n",
        "    return (1/2)*(np.sum(t))"
      ],
      "execution_count": 0,
      "outputs": []
    },
    {
      "cell_type": "code",
      "metadata": {
        "id": "uhlVVNQ7CvP1",
        "colab_type": "code",
        "colab": {}
      },
      "source": [
        "#cost_fn(theta,X,Y)"
      ],
      "execution_count": 0,
      "outputs": []
    },
    {
      "cell_type": "markdown",
      "metadata": {
        "id": "85w0sEd_bR34",
        "colab_type": "text"
      },
      "source": [
        "#Loss Function"
      ]
    },
    {
      "cell_type": "code",
      "metadata": {
        "id": "SGeBV8_OCvPm",
        "colab_type": "code",
        "colab": {}
      },
      "source": [
        "def loss (theta, X, Y):\n",
        "    return np.average(np.square(Y - hypothesis(theta, X))) / 2"
      ],
      "execution_count": 0,
      "outputs": []
    },
    {
      "cell_type": "code",
      "metadata": {
        "id": "EAOuSG22CvP7",
        "colab_type": "code",
        "colab": {}
      },
      "source": [
        "#loss(theta,X,Y)"
      ],
      "execution_count": 0,
      "outputs": []
    },
    {
      "cell_type": "markdown",
      "metadata": {
        "id": "L6-VpbThJVW9",
        "colab_type": "text"
      },
      "source": [
        "#Set LEARNING RATE to 0.1 and limit maximum iterations to 1000\n",
        "\n"
      ]
    },
    {
      "cell_type": "code",
      "metadata": {
        "id": "prk_3vRsCvQC",
        "colab_type": "code",
        "colab": {}
      },
      "source": [
        "alpha = 0.1\n",
        "iters = 1001"
      ],
      "execution_count": 0,
      "outputs": []
    },
    {
      "cell_type": "markdown",
      "metadata": {
        "id": "bBrctLIpKgvb",
        "colab_type": "text"
      },
      "source": [
        "#Derivative Function"
      ]
    },
    {
      "cell_type": "code",
      "metadata": {
        "id": "FT84k0e8CvQI",
        "colab_type": "code",
        "colab": {}
      },
      "source": [
        "def Derivative(theta,X,Y):\n",
        "    x = np.ones([47,3])\n",
        "    x[:,1:] = X          #Adding x0=1 to X feature vector\n",
        "    d_theta = np.empty([0,0])\n",
        "    d_theta = - np.average((Y - hypothesis_fn(theta, X)) * x, axis= 0)\n",
        "    d_theta = d_theta.reshape((d_theta.shape[0], 1))  \n",
        "    return d_theta"
      ],
      "execution_count": 0,
      "outputs": []
    },
    {
      "cell_type": "markdown",
      "metadata": {
        "id": "uRUmC_LUKk9D",
        "colab_type": "text"
      },
      "source": [
        "#Batch Gradient Descent"
      ]
    },
    {
      "cell_type": "code",
      "metadata": {
        "id": "QnvXFTgvCvQM",
        "colab_type": "code",
        "colab": {}
      },
      "source": [
        "def Batch_Gradient_Descent(theta, X, Y, alpha, iters):\n",
        "    cost = np.zeros(iters)\n",
        "    \n",
        "    for i in range(iters):\n",
        "        theta = theta - (alpha/2)*Derivative(theta, X, Y)\n",
        "        cost[i] = cost_fn(theta, X, Y)\n",
        "        \n",
        "        if i % 50 == 0 :\n",
        "            print ('iteration : ', i, ' loss : ', cost_fn(theta, X, Y))\n",
        "    return (theta, cost)"
      ],
      "execution_count": 0,
      "outputs": []
    },
    {
      "cell_type": "code",
      "metadata": {
        "id": "2RX-HtakCvQR",
        "colab_type": "code",
        "outputId": "f436b1d6-2392-4270-89de-0b5eee1f867a",
        "colab": {
          "base_uri": "https://localhost:8080/",
          "height": 404
        }
      },
      "source": [
        "B_theta, B_cost = Batch_Gradient_Descent(theta, X, Y, alpha, iters)\n",
        "#np.array(B_theta[1])"
      ],
      "execution_count": 0,
      "outputs": [
        {
          "output_type": "stream",
          "text": [
            "iteration :  0  loss :  21.387200466768398\n",
            "iteration :  50  loss :  2.6838302534012244\n",
            "iteration :  100  loss :  2.5656656962455275\n",
            "iteration :  150  loss :  2.5376858111474343\n",
            "iteration :  200  loss :  2.5105719097750328\n",
            "iteration :  250  loss :  2.4838858488091446\n",
            "iteration :  300  loss :  2.457618794176805\n",
            "iteration :  350  loss :  2.431764091680827\n",
            "iteration :  400  loss :  2.4063152027111725\n",
            "iteration :  450  loss :  2.3812656926063793\n",
            "iteration :  500  loss :  2.3566092289537215\n",
            "iteration :  550  loss :  2.3323395799634867\n",
            "iteration :  600  loss :  2.3084506128693274\n",
            "iteration :  650  loss :  2.2849362923540566\n",
            "iteration :  700  loss :  2.2617906790004603\n",
            "iteration :  750  loss :  2.2390079277667443\n",
            "iteration :  800  loss :  2.2165822864862204\n",
            "iteration :  850  loss :  2.194508094390849\n",
            "iteration :  900  loss :  2.172779780658246\n",
            "iteration :  950  loss :  2.151391862981802\n",
            "iteration :  1000  loss :  2.13033894616353\n"
          ],
          "name": "stdout"
        }
      ]
    },
    {
      "cell_type": "markdown",
      "metadata": {
        "id": "G5XuNGqwKSZs",
        "colab_type": "text"
      },
      "source": [
        "#Stochastic Gradient Descent"
      ]
    },
    {
      "cell_type": "code",
      "metadata": {
        "id": "88JuRBiPCvQb",
        "colab_type": "code",
        "colab": {}
      },
      "source": [
        "def Stochastic_Gradient_Descent( theta, X, Y, alpha, iters):\n",
        "    cost = np.zeros(iters)\n",
        "    for i in range(iters):\n",
        "        for j in range(X.shape[0]):\n",
        "            theta = theta - (alpha/2)*Derivative(theta, X, Y)\n",
        "            \n",
        "        cost[i] = cost_fn(theta, X, Y)\n",
        "        if i % 50 == 0 :\n",
        "            print ('iteration : ', i, ' loss : ', cost_fn(theta, X, Y))\n",
        "    return (theta, cost)"
      ],
      "execution_count": 0,
      "outputs": []
    },
    {
      "cell_type": "code",
      "metadata": {
        "id": "6T4TP20XCvQg",
        "colab_type": "code",
        "outputId": "f46b2411-eded-4faa-9bfe-edec626bde99",
        "colab": {
          "base_uri": "https://localhost:8080/",
          "height": 404
        }
      },
      "source": [
        "S_theta, S_cost = Stochastic_Gradient_Descent(theta, X, Y, alpha, iters)"
      ],
      "execution_count": 0,
      "outputs": [
        {
          "output_type": "stream",
          "text": [
            "iteration :  0  loss :  2.734307563817582\n",
            "iteration :  50  loss :  1.6585201370674154\n",
            "iteration :  100  loss :  1.2102600754163917\n",
            "iteration :  150  loss :  0.9931192515494847\n",
            "iteration :  200  loss :  0.8856776842967911\n",
            "iteration :  250  loss :  0.8306399901882897\n",
            "iteration :  300  loss :  0.8009207093735957\n",
            "iteration :  350  loss :  0.7836737911456887\n",
            "iteration :  400  loss :  0.7727710005682983\n",
            "iteration :  450  loss :  0.7652586087885924\n",
            "iteration :  500  loss :  0.7596874377822389\n",
            "iteration :  550  loss :  0.7553251681458484\n",
            "iteration :  600  loss :  0.7517842455237906\n",
            "iteration :  650  loss :  0.7488456388936009\n",
            "iteration :  700  loss :  0.7463749629286811\n",
            "iteration :  750  loss :  0.7442822178643909\n",
            "iteration :  800  loss :  0.7425021769415193\n",
            "iteration :  850  loss :  0.7409845904909012\n",
            "iteration :  900  loss :  0.7396890933863831\n",
            "iteration :  950  loss :  0.7385823966062119\n",
            "iteration :  1000  loss :  0.7376366137597894\n"
          ],
          "name": "stdout"
        }
      ]
    },
    {
      "cell_type": "markdown",
      "metadata": {
        "id": "rmYa4sBuCvQl",
        "colab_type": "text"
      },
      "source": [
        "#Normal Equations"
      ]
    },
    {
      "cell_type": "code",
      "metadata": {
        "id": "wmXlEGAbCvQs",
        "colab_type": "code",
        "colab": {}
      },
      "source": [
        " #Calculating θ without using Gradient Descent. \n",
        "def normal_equation(theta, X, Y):\n",
        "    x = np.ones([47,3])\n",
        "    x[:,1:] = X     # #Adding x0=1 to X feature vector\n",
        "    x = np.matrix(x)\n",
        "    Y = np.matrix(Y)\n",
        "    theta = np.matrix(theta)\n",
        "    XT = x.T  # transpose of x\n",
        "    m1 = np.matmul(XT, x)\n",
        "    m2 = m1.I           #((XT*X).I)\n",
        "    m3 = np.matmul(XT, Y)\n",
        "    theta = np.matmul(m2, m3)\n",
        "    theta1 = np.array(theta)\n",
        "    X1 = np.array(X)\n",
        "    Y1 = np.array(Y)\n",
        "    cost = loss(theta1, X1, Y1)\n",
        "    print('Calculated Loss :', cost)\n",
        "    \n",
        "    return (theta, cost)"
      ],
      "execution_count": 0,
      "outputs": []
    },
    {
      "cell_type": "code",
      "metadata": {
        "id": "fXD4Nm2UCvQx",
        "colab_type": "code",
        "outputId": "18034742-f645-42fd-c2e1-bd7c255a0cd6",
        "colab": {
          "base_uri": "https://localhost:8080/",
          "height": 35
        }
      },
      "source": [
        "N_theta, N_cost = normal_equation(theta, X, Y)\n",
        "#N_theta[0:2]"
      ],
      "execution_count": 0,
      "outputs": [
        {
          "output_type": "stream",
          "text": [
            "Calculated Loss : 0.000331399737350973\n"
          ],
          "name": "stdout"
        }
      ]
    },
    {
      "cell_type": "markdown",
      "metadata": {
        "id": "Wj9kSwNbZkkC",
        "colab_type": "text"
      },
      "source": [
        "#Plotting the results"
      ]
    },
    {
      "cell_type": "code",
      "metadata": {
        "id": "ZX79Sdk9CvQ-",
        "colab_type": "code",
        "outputId": "745b7695-0228-49b3-d25a-daee843b5c32",
        "colab": {
          "base_uri": "https://localhost:8080/",
          "height": 280
        }
      },
      "source": [
        "x = X[:,0]\n",
        "y = data[:,2]\n",
        "\n",
        "# Batch gradient descent\n",
        "B_intercept = np.array(B_theta[0])\n",
        "B_slope = np.array(B_theta[1])\n",
        "B_y = B_intercept + x*B_slope   # line equation\n",
        "\n",
        "# Stochastic gradiant descent\n",
        "S_intercept = np.array(S_theta[0])\n",
        "S_slope = np.array(S_theta[1])\n",
        "S_y = S_intercept + x*S_slope   # line equation\n",
        "\n",
        "# Normal Equation\n",
        "N_intercept = np.array(N_theta[0][0])[0]\n",
        "N_slope = np.array(N_theta[1][0])[0]\n",
        "N_y = N_intercept + x*N_slope   # line equation\n",
        "\n",
        "plt.scatter(x, y, marker='x')\n",
        "plt.xlabel(\"Living_Area\")\n",
        "plt.ylabel(\"Price\")\n",
        "\n",
        "plt.plot(x, B_y, 'r', label= 'Batch Gradient Descent')\n",
        "plt.plot(x, S_y, 'y', label= 'Stochastic Gradient Descent')\n",
        "plt.plot(x, N_y, 'g', label= 'Normal Equation')\n",
        "plt.legend(loc='upper left')\n",
        "plt.show()"
      ],
      "execution_count": 0,
      "outputs": [
        {
          "output_type": "display_data",
          "data": {
            "image/png": "[encoded data removed]",
            "text/plain": [
              "<Figure size 432x288 with 1 Axes>"
            ]
          },
          "metadata": {
            "tags": []
          }
        }
      ]
    }
  ]
}